{
 "cells": [
  {
   "cell_type": "code",
   "execution_count": 1,
   "metadata": {},
   "outputs": [
    {
     "data": {
      "text/plain": [
       "25"
      ]
     },
     "execution_count": 1,
     "metadata": {},
     "output_type": "execute_result"
    }
   ],
   "source": [
    "5*5"
   ]
  },
  {
   "cell_type": "code",
   "execution_count": 2,
   "metadata": {},
   "outputs": [
    {
     "name": "stdout",
     "output_type": "stream",
     "text": [
      "a\n"
     ]
    }
   ],
   "source": [
    "print('a')"
   ]
  },
  {
   "cell_type": "code",
   "execution_count": 3,
   "metadata": {},
   "outputs": [
    {
     "ename": "NameError",
     "evalue": "name 'a' is not defined",
     "output_type": "error",
     "traceback": [
      "\u001b[1;31m---------------------------------------------------------------------------\u001b[0m",
      "\u001b[1;31mNameError\u001b[0m                                 Traceback (most recent call last)",
      "\u001b[1;32m<ipython-input-3-bca0e2660b9f>\u001b[0m in \u001b[0;36m<module>\u001b[1;34m\u001b[0m\n\u001b[1;32m----> 1\u001b[1;33m \u001b[0mprint\u001b[0m\u001b[1;33m(\u001b[0m\u001b[0ma\u001b[0m\u001b[1;33m)\u001b[0m\u001b[1;33m\u001b[0m\u001b[1;33m\u001b[0m\u001b[0m\n\u001b[0m",
      "\u001b[1;31mNameError\u001b[0m: name 'a' is not defined"
     ]
    }
   ],
   "source": [
    "print(a)"
   ]
  },
  {
   "cell_type": "code",
   "execution_count": 4,
   "metadata": {},
   "outputs": [
    {
     "ename": "SyntaxError",
     "evalue": "invalid syntax (<ipython-input-4-ad41dfa847f3>, line 3)",
     "output_type": "error",
     "traceback": [
      "\u001b[1;36m  File \u001b[1;32m\"<ipython-input-4-ad41dfa847f3>\"\u001b[1;36m, line \u001b[1;32m3\u001b[0m\n\u001b[1;33m    print('Cat's paws.')\u001b[0m\n\u001b[1;37m               ^\u001b[0m\n\u001b[1;31mSyntaxError\u001b[0m\u001b[1;31m:\u001b[0m invalid syntax\n"
     ]
    }
   ],
   "source": [
    "print(\"The ship's name is 'Brave'.\")\n",
    "\n",
    "print('Cat's paws.')\n",
    "\n",
    "print('The word \"Ciao\" means \"hello\" in Italian.')\n",
    "\n",
    "print(\"And \"Ciao\" is Italian \"Bye\".\")"
   ]
  },
  {
   "cell_type": "code",
   "execution_count": 6,
   "metadata": {},
   "outputs": [
    {
     "name": "stdout",
     "output_type": "stream",
     "text": [
      "The ship's name is 'Brave'.\n",
      "The word \"Ciao\" means \"hello\" in Italian.\n"
     ]
    }
   ],
   "source": [
    "print(\"The ship's name is 'Brave'.\")\n",
    "\n",
    "\n",
    "\n",
    "print('The word \"Ciao\" means \"hello\" in Italian.')\n",
    "\n"
   ]
  },
  {
   "cell_type": "code",
   "execution_count": 7,
   "metadata": {},
   "outputs": [
    {
     "ename": "SyntaxError",
     "evalue": "invalid syntax (<ipython-input-7-dc035fd78649>, line 1)",
     "output_type": "error",
     "traceback": [
      "\u001b[1;36m  File \u001b[1;32m\"<ipython-input-7-dc035fd78649>\"\u001b[1;36m, line \u001b[1;32m1\u001b[0m\n\u001b[1;33m    print(\"And \"Ciao\" is Italian \"Bye\".\")\u001b[0m\n\u001b[1;37m                ^\u001b[0m\n\u001b[1;31mSyntaxError\u001b[0m\u001b[1;31m:\u001b[0m invalid syntax\n"
     ]
    }
   ],
   "source": [
    "print(\"And \"Ciao\" is Italian \"Bye\".\")"
   ]
  },
  {
   "cell_type": "code",
   "execution_count": 13,
   "metadata": {},
   "outputs": [
    {
     "name": "stdout",
     "output_type": "stream",
     "text": [
      "2 + 2 = 4\n"
     ]
    }
   ],
   "source": [
    "print('2 + 2 = 4')\n"
   ]
  },
  {
   "cell_type": "code",
   "execution_count": 15,
   "metadata": {},
   "outputs": [
    {
     "name": "stdout",
     "output_type": "stream",
     "text": [
      "* * * * * \n",
      "*       *\n",
      "*       *\n",
      "*       *\n",
      "* * * * * \n"
     ]
    }
   ],
   "source": [
    "def print_square(n):\n",
    "    for v in range(n):\n",
    "        if v in (0, n - 1):\n",
    "            print(\"* \" * n)\n",
    "        else:\n",
    "            print(\"*\", \" \" * ((n - 2) * 2 - 1), \"*\")\n",
    "\n",
    "\n",
    "print_square(5)"
   ]
  },
  {
   "cell_type": "code",
   "execution_count": 4,
   "metadata": {},
   "outputs": [
    {
     "name": "stdout",
     "output_type": "stream",
     "text": [
      "It's a bad string!\n"
     ]
    }
   ],
   "source": [
    "print('It\\'s a bad string!')"
   ]
  },
  {
   "cell_type": "code",
   "execution_count": 5,
   "metadata": {},
   "outputs": [
    {
     "name": "stdout",
     "output_type": "stream",
     "text": [
      "It's a good string!\n"
     ]
    }
   ],
   "source": [
    "print(\"It's a good string!\")"
   ]
  },
  {
   "cell_type": "code",
   "execution_count": 6,
   "metadata": {},
   "outputs": [
    {
     "ename": "SyntaxError",
     "evalue": "invalid syntax (<ipython-input-6-40466f09faf2>, line 1)",
     "output_type": "error",
     "traceback": [
      "\u001b[1;36m  File \u001b[1;32m\"<ipython-input-6-40466f09faf2>\"\u001b[1;36m, line \u001b[1;32m1\u001b[0m\n\u001b[1;33m    Select all code lines that follow the PEP 8 guidelines.\u001b[0m\n\u001b[1;37m           ^\u001b[0m\n\u001b[1;31mSyntaxError\u001b[0m\u001b[1;31m:\u001b[0m invalid syntax\n"
     ]
    }
   ],
   "source": [
    "Select all code lines that follow the PEP 8 guidelines.\n",
    "\n",
    " Report a typo\n",
    " Select one or more options from the list\n",
    "\n",
    "print(\"Wow! It's amazing!\")<correct>\n",
    "\n",
    "print('Those in favor, say \"aye\"')<correct>\n",
    "\n",
    "print(\"He said: \\\"So what?\\\"\")\n",
    "\n",
    "print( 'It\\'s time for tea!' )"
   ]
  },
  {
   "cell_type": "code",
   "execution_count": 7,
   "metadata": {},
   "outputs": [
    {
     "ename": "SyntaxError",
     "evalue": "invalid syntax (<ipython-input-7-611bbd5424b1>, line 1)",
     "output_type": "error",
     "traceback": [
      "\u001b[1;36m  File \u001b[1;32m\"<ipython-input-7-611bbd5424b1>\"\u001b[1;36m, line \u001b[1;32m1\u001b[0m\n\u001b[1;33m    Which of the following rules are provided by PEP 8?\u001b[0m\n\u001b[1;37m          ^\u001b[0m\n\u001b[1;31mSyntaxError\u001b[0m\u001b[1;31m:\u001b[0m invalid syntax\n"
     ]
    }
   ],
   "source": [
    "Which of the following rules are provided by PEP 8?\n",
    "\n",
    " Report a typo\n",
    " Select one or more options from the list\n",
    "\n",
    "Limit the length of a line to the maximum of 79 characters.<correct>\n",
    "\n",
    "Limit the length of variable names to the maximum of 5 characters.\n",
    "\n",
    "Use single quote characters to define a single-character string, and double quote characters to define a multiple-character string.\n",
    "\n",
    "When a string contains single or double quote characters, the outer quotes should be of the opposite type.<correct>\n",
    "\n",
    "Avoid extra spaces within parentheses.<correct>"
   ]
  },
  {
   "cell_type": "code",
   "execution_count": 8,
   "metadata": {},
   "outputs": [
    {
     "ename": "IndentationError",
     "evalue": "unexpected indent (<ipython-input-8-03665403813b>, line 2)",
     "output_type": "error",
     "traceback": [
      "\u001b[1;36m  File \u001b[1;32m\"<ipython-input-8-03665403813b>\"\u001b[1;36m, line \u001b[1;32m2\u001b[0m\n\u001b[1;33m    7 minutes\u001b[0m\n\u001b[1;37m    ^\u001b[0m\n\u001b[1;31mIndentationError\u001b[0m\u001b[1;31m:\u001b[0m unexpected indent\n"
     ]
    }
   ],
   "source": [
    "Theory: Comments\n",
    " 7 minutes\n",
    "0 / 5 problems solved\n",
    "Sometimes you need to explain what some particular parts of your code are for. Lucky you, since Python gives you an opportunity to fulfill your needs. You can leave special notes called comments. They are especially useful for beginners. Throughout this course, we will often use comments to explain our examples.\n",
    "\n",
    "What is a comment?\n",
    "Python comments start with a hash #. Everything after the hash mark and up to the end of the line is regarded as a comment and will be ignored when running the code.\n",
    "\n",
    "print(\"This will run.\")  # This won't run\n",
    "In the example above, you can see what PEP 8 calls an inline comment because it's written on the same line as the code.\n",
    "\n",
    "A comment can also refer to the block of code that follows it:\n",
    "\n",
    "# Outputs three numbers\n",
    "print(\"1\")\n",
    "print(\"2\")\n",
    "print(\"3\")\n",
    "We intend to use such comments primarily for learning purposes. Now, it's time to find out how to comment code properly.\n",
    "\n",
    "Formatting comments\n",
    "Although it is pretty easy to write a comment, let's discuss how to do this in accordance with best practices.\n",
    "\n",
    "To begin with, after a hash mark there should be one space and, in inline comments, there should be two spaces between the end of the code and the hash mark. Putting more than two spaces between the end of the code and the hash mark is also acceptable but most commonly there are exactly two spaces.\n",
    "\n",
    "print(\"Learning Python is fun!\")  # This is a proper comment formatting\n",
    "print(\"PEP-8 is important!\")#This is a very bad example\n",
    "Indent your comment to the same level as the statement it explains. E.g. the following example is wrong:\n",
    "\n",
    "    # this comment is at the wrong place\n",
    "print(\"This is a statement to print.\")\n",
    "A comment is not a python: it should not be too long. It's better to split a long comment into several lines: you can do it by adding a hash mark at the beginning of each new line:\n",
    "\n",
    "# Imagine that this is an example of a really long comment\n",
    "# that we need to spread over three lines, so we continue\n",
    "# to write it even here.\n",
    "print(\"The long comment above explains this line of code.\")\n",
    "Comments that span multiple lines are called multi-line or block comments. In Python, there is no special way to indicate them.\n",
    "\n",
    "You may come across multi-line comments enclosed in triple quotes \"\"\"...\"\"\", still, we recommend that you use several hash marks for this purpose. Thus, your code will comply with the official style guide. Triple quotes are reserved for documentation strings, or docstrings for short. They are also informative, but their use is limited to functions, methods and several other cases.\n",
    "We hope our comments will help you understand our code examples better!"
   ]
  },
  {
   "cell_type": "markdown",
   "metadata": {},
   "source": [
    "# Which code examples have good comments?\n",
    "\n",
    "a)\n",
    "\n",
    "    # prints a number\n",
    "print(315)\n",
    "\n",
    "b)\n",
    "\n",
    "a = 15\n",
    "#creates a variable\n",
    "\n",
    "c)\n",
    "\n",
    "print(\"hi\")  # says \"hi\"\n",
    "\n",
    "d)\n",
    "\n",
    "bye = \"au revoir\" #the variable bye\n",
    "\n",
    "e)\n",
    "\n",
    "prints the greetings\n",
    "print(\"Hello, user!\")\n",
    "\n",
    "# Report a typo\n",
    " Select one or more options from the list\n",
    "\n",
    "a\n",
    "\n",
    "b\n",
    "\n",
    "c✓\n",
    "\n",
    "d\n",
    "\n",
    "e✓\n",
    "\n",
    "Correct"
   ]
  },
  {
   "cell_type": "code",
   "execution_count": 11,
   "metadata": {},
   "outputs": [
    {
     "name": "stdout",
     "output_type": "stream",
     "text": [
      "1 2 3 4 5 6 7 8 9 10 "
     ]
    }
   ],
   "source": [
    "for x in range(1, 11):\n",
    "    print(x, end=\" \")"
   ]
  },
  {
   "cell_type": "code",
   "execution_count": 12,
   "metadata": {},
   "outputs": [
    {
     "name": "stdout",
     "output_type": "stream",
     "text": [
      "1 2 3 4 5 6 7 8 9 10\n"
     ]
    }
   ],
   "source": [
    "print(*range(1,11))"
   ]
  },
  {
   "cell_type": "markdown",
   "metadata": {},
   "source": [
    "# Multiline strings\n",
    "Strings can represent a long text, a single character or even zero characters (like an empty string). But so far our strings were just in one line, no matter how long they were. You can also write multi-line strings in Python, and to do that you need to use triple quotes on each side of the string literal. Again, which quotes to choose, single or double, is up to you, both work fine in Python.\n",
    "\n",
    "Multi-line string in double quotes:\n",
    "print(\"\"\"This\n",
    "is\n",
    "a\n",
    "multi-line\n",
    "string\"\"\")\n",
    "\n",
    "Multi-line string in single quotes:\n",
    "print('''This\n",
    "is\n",
    "a\n",
    "multi-line\n",
    "string''')\n",
    "Both examples print the same result:\n",
    "\n",
    "This\n",
    "is\n",
    "a\n",
    "multi-line\n",
    "string\n",
    "Well, these are just some basics, strings in Python are much more interesting, and there are so many things you can do with them!"
   ]
  },
  {
   "cell_type": "markdown",
   "metadata": {},
   "source": [
    "Write a program that prints a 4-line string, containing:\n",
    "\n",
    "at the first line – one single quote\n",
    "at the second line – two single quotes with one double quote inside\n",
    "at the third line – five alternating single and double quotes, starting with a single quote\n",
    "at the fourth line – seven alternating single and double quotes, starting with a single quote\n",
    "So, the output should look like this:\n",
    "\n",
    "'\n",
    "'\"'\n",
    "'\"'\"'\n",
    "'\"'\"'\"'\n",
    "\n",
    "# first way\n",
    "print(\"'\")\n",
    "print(\"'\\\"'\")\n",
    "print(\"'\\\"'\\\"'\")\n",
    "print(\"'\\\"'\\\"'\\\"'\")\n",
    "    \n",
    "# second way\n",
    "print(\"\"\"\n",
    "'\n",
    "'\"'\n",
    "'\"'\"'\n",
    "'\"'\"'\"'\n",
    "\"\"\")"
   ]
  },
  {
   "cell_type": "code",
   "execution_count": 20,
   "metadata": {},
   "outputs": [
    {
     "name": "stdout",
     "output_type": "stream",
     "text": [
      "<class 'int'>\n"
     ]
    }
   ],
   "source": [
    "a = \"Tuesday\"\n",
    "b = 10\n",
    "a = b\n",
    "print(type(a))\n"
   ]
  },
  {
   "cell_type": "code",
   "execution_count": null,
   "metadata": {},
   "outputs": [],
   "source": []
  },
  {
   "cell_type": "code",
   "execution_count": 29,
   "metadata": {},
   "outputs": [
    {
     "name": "stdout",
     "output_type": "stream",
     "text": [
      "7\n",
      "la\n",
      "lalalalalalala\n"
     ]
    }
   ],
   "source": [
    "numb = int(input())\n",
    "wod  = input()\n",
    "print(wod*numb)"
   ]
  },
  {
   "cell_type": "code",
   "execution_count": 30,
   "metadata": {},
   "outputs": [
    {
     "name": "stdout",
     "output_type": "stream",
     "text": [
      "7\n",
      "la\n",
      "lalalalalalala\n"
     ]
    }
   ],
   "source": [
    "print(int(input()) * input())"
   ]
  },
  {
   "cell_type": "markdown",
   "metadata": {},
   "source": [
    "#\n",
    "list_out_of_string = list('danger!')\n",
    "print(list_out_of_string)  # ['d', 'a', 'n', 'g', 'e', 'r', '!']\n",
    "\n",
    "list_out_of_integer = list(235)  # TypeError: 'int' object is not iterable"
   ]
  },
  {
   "cell_type": "markdown",
   "metadata": {},
   "source": [
    "# Theory List\n",
    "In your programs, you often need to group several elements in order to process them as a single object. For this, you will need to use different collections. One of the most useful collections in Python is a list. It is one of the most important things in Python.\n",
    "\n",
    "Creating and printing lists\n",
    "Look at a simple list that stores several names of dogs' breeds:\n",
    "\n",
    "dog_breeds = ['corgi', 'labrador', 'poodle', 'jack russell']\n",
    "print(dog_breeds)  # ['corgi', 'labrador', 'poodle', 'jack russell']\n",
    "In the first line, we use square brackets to create a list that contains four elements and then assign it to the dog_breeds variable. In the second line, the list is printed through the variable's name. All the elements are printed in the same order as they were stored in the list because lists are ordered.\n",
    "\n",
    "Here is another list that contains five integers:\n",
    "\n",
    "numbers = [1, 2, 3, 4, 5]\n",
    "print(numbers)  # [1, 2, 3, 4, 5]\n",
    "Another way to create a list is to invoke the list function. It is used to create a list out of an iterable object: that is, a kind of object where you can get its elements one by one. The concept of iterability will be explained in detail further on, but let's look at the examples below:\n",
    "\n",
    "list_out_of_string = list('danger!')\n",
    "print(list_out_of_string)  # ['d', 'a', 'n', 'g', 'e', 'r', '!']\n",
    "\n",
    "list_out_of_integer = list(235)  # TypeError: 'int' object is not iterable\n",
    "So, the list function creates a list containing each element from the given iterable object. For now, remember that a string is an example of an iterable object, and an integer is an example of a non-iterable object. A list itself is also an iterable object.\n",
    "\n",
    "Let's also note the difference between the list function and creating a list using square brackets:\n",
    "\n",
    "multi_element_list = list('danger!')\n",
    "print(multi_element_list)  # ['d', 'a', 'n', 'g', 'e', 'r', '!']\n",
    "\n",
    "single_element_list = ['danger!']\n",
    "print(single_element_list)  # ['danger!']\n",
    "The square brackets and the list function can also be used to create empty lists that do not have elements at all.\n",
    "\n",
    "empty_list_1 = list()\n",
    "empty_list_2 = []\n",
    "In the following topics, we will consider how to fill empty lists.\n",
    "\n",
    "Features of lists\n",
    "Lists can store duplicate values as many times as needed.\n",
    "\n",
    "on_off_list = ['on', 'off', 'on', 'off', 'on']\n",
    "print(on_off_list)  # ['on', 'off', 'on', 'off', 'on']\n",
    "Another important thing about lists is that they can contain different types of elements. So there are neither restrictions, nor fixed list types, and you can add to your list any data you want, like in the following example:\n",
    "\n",
    "different_objects = ['a', 1, 'b', 2]\n",
    "Length of a list\n",
    "Sometimes you need to know how many elements are there in a list. There is a built-in function called len that can be applied to any iterable object, and it returns simply the length of that object\n",
    "\n",
    "So, when applied to a list, it returns the number of elements in that list.\n",
    "\n",
    "numbers = [1, 2, 3, 4, 5]\n",
    "print(len(numbers))  # 5\n",
    "\n",
    "empty_list = list()\n",
    "print(len(empty_list))  # 0\n",
    "\n",
    "single_element_list = ['danger!']\n",
    "print(len(single_element_list))  # 1\n",
    "\n",
    "multi_elements_list = list('danger!')\n",
    "print(len(multi_elements_list))  # 7\n",
    "In the example above, you can see how the len() function works. Again, pay attention to the difference between list() and [] as applied to strings: it may not result in what you expected.\n",
    "\n",
    "Recap\n",
    "As a recap, we note that lists are:\n",
    "\n",
    "ordered, i.e. each element has a fixed position in a list;\n",
    "iterable, i.e. you can get their elements one by one;\n",
    "able to store duplicate values;\n",
    "able to store different types of elements."
   ]
  },
  {
   "cell_type": "markdown",
   "metadata": {},
   "source": [
    "#\n",
    "There are several types of collections to store data in Python. Positionally ordered collections of elements are usually called sequences, and both lists and strings belong to them. Each element in a list, as well as each character in a string, has an index that corresponds to its position. Indexes are used to access elements within a sequence. Indexing is zero-based, so if you see a person who counts from zero, you must have met a programmer.\n",
    "\n",
    "Indexes of elements\n",
    "To access an element of a list by its index, you need to use square brackets. You add the brackets after the list and, between them, you write the index of an element you want to get.\n",
    "\n",
    "Don't forget, the indexes start at 0, so the index of the first element is 0. The index of the last element is equal to len(list) - 1.\n",
    "\n",
    "Let's take a look at the example below:\n",
    "\n",
    "colors = ['red', 'green', 'blue']\n",
    "\n",
    "first_elem = colors[0]   # 'red'\n",
    "second_elem = colors[1]  # 'green'\n",
    "third_elem = colors[2]   # 'blue'\n",
    "Strings work in the same way:\n",
    "\n",
    "pet = \"cat\"\n",
    "\n",
    "first_char = pet[0]   # 'c'\n",
    "second_char = pet[1]  # 'a'\n",
    "third_char = pet[2]   # 't'\n",
    "Potential pitfalls\n",
    "When using indexes, it's important to stay within the range of your sequence: you'll get an error (called IndexError) if you try to access an element with a non-existing index!\n",
    "\n",
    "colors = ['red', 'green', 'blue']\n",
    "pet = \"cat\"\n",
    "\n",
    "print(colors[3])  # IndexError: list index out of range\n",
    "print(pet[3])     # IndexError: string index out of range\n",
    "There is one more obstacle in your way. Imagine that you want to change one of the elements in a list. It can be easily done:\n",
    "\n",
    "colors = ['red', 'green', 'blue']\n",
    "\n",
    "colors[1] = 'white'\n",
    "print(colors)  # ['red', 'white', 'blue']\n",
    "However, when it comes to strings, such reassignment is impossible. Strings, unlike lists, are immutable, so you can't modify their contents with indexes:\n",
    "\n",
    "pet = \"cat\"\n",
    "\n",
    "pet[0] = \"b\"\n",
    "TypeError: 'str' object does not support item assignment\n",
    "Don't worry, after some practice, you will not encounter these errors.\n",
    "\n",
    "Negative indexes\n",
    "The easier way to access the elements at the end of a list or a string is to use negative indexes: the minus before the number changes your perspective in a way and you look at the sequence from the end. So, the last element of a list, in this case, has the index equal to -1, and the first element of the list has the index -len(list) (the length of the list).\n",
    "\n",
    "For example:\n",
    "\n",
    "colors = ['red', 'green', 'blue']\n",
    "\n",
    "last_elem = colors[-1]    # 'blue'\n",
    "second_elem = colors[-2]  # 'green'\n",
    "first_elem = colors[-3]   # 'red'\n",
    "\n",
    "pet = \"cat\"\n",
    "\n",
    "last_char = pet[-1]    # 't'\n",
    "second_char = pet[-2]  # 'a'\n",
    "first_char = pet[-3]   # 'c'\n",
    "As you can see, it works the same for lists and strings.\n",
    "\n",
    "If you write a non-existing negative index, you'll also get IndexError. Be careful with indexes to avoid off-by-one errors in your code.\n",
    "The following picture shows the general concept of indexes in a list:\n",
    "\n",
    "https://ucarecdn.com/5485f397-8a2f-4279-b534-a496fe509469/\n",
    "\n",
    "Since you have learned the concept of indexes, we hope that from now on you will not encounter any difficulties when using them!"
   ]
  },
  {
   "cell_type": "code",
   "execution_count": 64,
   "metadata": {},
   "outputs": [
    {
     "name": "stdout",
     "output_type": "stream",
     "text": [
      "090234\n",
      "Lucky\n"
     ]
    }
   ],
   "source": [
    "# Save the input in this variable\n",
    "ticket = input()\n",
    "\n",
    "# Add up the digits for each half\n",
    "half1 = int(ticket[0])+int(ticket[1])+int(ticket[2])\n",
    "half2 = int(ticket[3])+int(ticket[4])+int(ticket[5])\n",
    "\n",
    "# Thanks to you, this code will work\n",
    "if half1 == half2:\n",
    "    print(\"Lucky\")\n",
    "else:\n",
    "    print(\"Ordinary\")\n",
    "    "
   ]
  },
  {
   "cell_type": "code",
   "execution_count": 66,
   "metadata": {},
   "outputs": [
    {
     "name": "stdout",
     "output_type": "stream",
     "text": [
      "789654\n",
      "Ordinary\n"
     ]
    }
   ],
   "source": [
    "# Save the input in this variable\n",
    "ticket = list(input())\n",
    "ticket = [int(x) for x in ticket]\n",
    "\n",
    "# Add up the digits for each half\n",
    "half1 = sum(ticket[:3])\n",
    "half2 = sum(ticket[3:])\n",
    "\n",
    "# Thanks to you, this code will work\n",
    "if half1 == half2:\n",
    "    print(\"Lucky\")\n",
    "else:\n",
    "    print(\"Ordinary\")"
   ]
  },
  {
   "cell_type": "code",
   "execution_count": null,
   "metadata": {},
   "outputs": [],
   "source": [
    "camel = r\"\"\"\n",
    "Switching on the camera in the camel habitat...\n",
    " ___.-''''-.\n",
    "/___  @    |\n",
    "',,,,.     |         _.'''''''._\n",
    "     '     |        /           \\\n",
    "     |     \\    _.-'             \\\n",
    "     |      '.-'                  '-.\n",
    "     |                               ',\n",
    "     |                                '',\n",
    "      ',,-,                           ':;\n",
    "           ',,| ;,,                 ,' ;;\n",
    "              ! ; !'',,,',',,,,'!  ;   ;:\n",
    "             : ;  ! !       ! ! ;  ;   :;\n",
    "             ; ;   ! !      ! !  ; ;   ;,\n",
    "            ; ;    ! !     ! !   ; ;\n",
    "            ; ;    ! !    ! !     ; ;\n",
    "           ;,,      !,!   !,!     ;,;\n",
    "           /_I      L_I   L_I     /_I\n",
    "Look at that! Our little camel is sunbathing!\"\"\"\n",
    "\n",
    "lion = r\"\"\"\n",
    "Switching on the camera in the lion habitat...\n",
    "                                               ,w.\n",
    "                                             ,YWMMw  ,M  ,\n",
    "                        _.---.._   __..---._.'MMMMMw,wMWmW,\n",
    "                   _.-\"\"        '''           YP\"WMMMMMMMMMb,\n",
    "                .-' __.'                   .'     MMMMW^WMMMM;\n",
    "    _,        .'.-'\"; `,       /`     .--\"\"      :MMM[==MWMW^;\n",
    " ,mM^\"     ,-'.'   /   ;      ;      /   ,       MMMMb_wMW\"  @\\\n",
    ",MM:.    .'.-'   .'     ;     `\\    ;     `,     MMMMMMMW `\"=./`-,\n",
    "WMMm__,-'.'     /      _.\\      F'''-+,,   ;_,_.dMMMMMMMM[,_ / `=_}\n",
    "\"^MP__.-'    ,-' _.--\"\"   `-,   ;       \\  ; ;MMMMMMMMMMW^``; __|\n",
    "           /   .'            ; ;         )  )`{  \\ `\"^W^`,   \\  :\n",
    "          /  .'             /  (       .'  /     Ww._     `.  `\"\n",
    "         /  Y,              `,  `-,=,_{   ;      MMMP`\"\"-,  `-._.-,\n",
    "        (--, )                `,_ / `) \\/\"\")      ^\"      `-, -;\"\\:\n",
    "The lion is roaring!\"\"\"\n",
    "\n",
    "deer = r\"\"\"\n",
    "Switching on the camera in the deer habitat...\n",
    "   /|       |\\\n",
    "`__\\\\       //__'\n",
    "   ||      ||\n",
    " \\__`\\     |'__/\n",
    "   `_\\\\   //_'\n",
    "   _.,:---;,._\n",
    "   \\_:     :_/\n",
    "     |@. .@|\n",
    "     |     |\n",
    "     ,\\.-./ \\\n",
    "     ;;`-'   `---__________-----.-.\n",
    "     ;;;                         \\_\\\n",
    "     ';;;                         |\n",
    "      ;    |                      ;\n",
    "       \\   \\     \\        |      /\n",
    "        \\_, \\    /        \\     |\\\n",
    "          |';|  |,,,,,,,,/ \\    \\ \\_\n",
    "          |  |  |           \\   /   |\n",
    "          \\  \\  |           |  / \\  |\n",
    "           | || |           | |   | |\n",
    "           | || |           | |   | |\n",
    "           | || |           | |   | |\n",
    "           |_||_|           |_|   |_|\n",
    "          /_//_/           /_/   /_/\n",
    "Our 'Bambi' looks hungry. Let's go to feed it!\"\"\"\n",
    "\n",
    "goose = r\"\"\"\n",
    "Switching on the camera in the goose habitat...\n",
    "\n",
    "                                    _\n",
    "                                ,-\"\" \"\".\n",
    "                              ,'  ____  `.\n",
    "                            ,'  ,'    `.  `._\n",
    "   (`.         _..--.._   ,'  ,'        \\    \\\n",
    "  (`-.\\    .-\"\"        \"\"'   /          (  d _b\n",
    " (`._  `-\"\" ,._             (            `-(   \\\n",
    " <_  `     (  <`<            \\              `-._\\\n",
    "  <`-       (__< <           :\n",
    "   (__        (_<_<          ;\n",
    "    `------------------------------------------\n",
    "The goose is staring intently at you... Maybe it's time to change the channel?\"\"\"\n",
    "\n",
    "bat = r\"\"\"\n",
    "Switching on the camera in the bat habitat...\n",
    "_________________               _________________\n",
    " ~-.              \\  |\\___/|  /              .-~\n",
    "     ~-.           \\ / o o \\ /           .-~\n",
    "        >           \\\\  W  //           <\n",
    "       /             /~---~\\             \\\n",
    "      /_            |       |            _\\\n",
    "         ~-.        |       |        .-~\n",
    "            ;        \\     /        i\n",
    "           /___      /\\   /\\      ___\\\n",
    "                ~-. /  \\_/  \\ .-~\n",
    "                   V         V\n",
    "This bat looks like it's doing fine.\"\"\"\n",
    "\n",
    "rabbit = r\"\"\"\n",
    "Switching on the camera in the rabbit habitat...\n",
    "         ,\n",
    "        /|      __\n",
    "       / |   ,-~ /\n",
    "      Y :|  //  /\n",
    "      | jj /( .^\n",
    "      >-\"~\"-v\"\n",
    "     /       Y\n",
    "    jo  o    |\n",
    "   ( ~T~     j\n",
    "    >._-' _./\n",
    "   /   \"~\"  |\n",
    "  Y     _,  |\n",
    " /| ;-\"~ _  l\n",
    "/ l/ ,-\"~    \\\n",
    "\\//\\/      .- \\\n",
    " Y        /    Y\n",
    " l       I     !\n",
    " ]\\      _\\    /\"\\\n",
    "(\" ~----( ~   Y.  )\n",
    "It looks like we will soon have more rabbits!\"\"\"\n",
    "\n",
    "\n",
    "# write your code here\n",
    "animals=['camel','lion','deer','goose','bat','rabbit']\n",
    "msg = int(input(\"Please enter the number of the habitat you would like to view: \"))\n",
    "print(animals[msg])\n",
    "print(\"\"\"---\n",
    "You've reached the end of the program. To check another habitat, please restart the watcher.\"\"\")\n"
   ]
  },
  {
   "cell_type": "code",
   "execution_count": null,
   "metadata": {},
   "outputs": [],
   "source": [
    "camel = r\"\"\"\n",
    "Switching on the camera in the camel habitat...\n",
    " ___.-''''-.\n",
    "/___  @    |\n",
    "',,,,.     |         _.'''''''._\n",
    "     '     |        /           \\\n",
    "     |     \\    _.-'             \\\n",
    "     |      '.-'                  '-.\n",
    "     |                               ',\n",
    "     |                                '',\n",
    "      ',,-,                           ':;\n",
    "           ',,| ;,,                 ,' ;;\n",
    "              ! ; !'',,,',',,,,'!  ;   ;:\n",
    "             : ;  ! !       ! ! ;  ;   :;\n",
    "             ; ;   ! !      ! !  ; ;   ;,\n",
    "            ; ;    ! !     ! !   ; ;\n",
    "            ; ;    ! !    ! !     ; ;\n",
    "           ;,,      !,!   !,!     ;,;\n",
    "           /_I      L_I   L_I     /_I\n",
    "Look at that! Our little camel is sunbathing!\"\"\"\n",
    "\n",
    "lion = r\"\"\"\n",
    "Switching on the camera in the lion habitat...\n",
    "                                               ,w.\n",
    "                                             ,YWMMw  ,M  ,\n",
    "                        _.---.._   __..---._.'MMMMMw,wMWmW,\n",
    "                   _.-\"\"        '''           YP\"WMMMMMMMMMb,\n",
    "                .-' __.'                   .'     MMMMW^WMMMM;\n",
    "    _,        .'.-'\"; `,       /`     .--\"\"      :MMM[==MWMW^;\n",
    " ,mM^\"     ,-'.'   /   ;      ;      /   ,       MMMMb_wMW\"  @\\\n",
    ",MM:.    .'.-'   .'     ;     `\\    ;     `,     MMMMMMMW `\"=./`-,\n",
    "WMMm__,-'.'     /      _.\\      F'''-+,,   ;_,_.dMMMMMMMM[,_ / `=_}\n",
    "\"^MP__.-'    ,-' _.--\"\"   `-,   ;       \\  ; ;MMMMMMMMMMW^``; __|\n",
    "           /   .'            ; ;         )  )`{  \\ `\"^W^`,   \\  :\n",
    "          /  .'             /  (       .'  /     Ww._     `.  `\"\n",
    "         /  Y,              `,  `-,=,_{   ;      MMMP`\"\"-,  `-._.-,\n",
    "        (--, )                `,_ / `) \\/\"\")      ^\"      `-, -;\"\\:\n",
    "The lion is roaring!\"\"\"\n",
    "\n",
    "deer = r\"\"\"\n",
    "Switching on the camera in the deer habitat...\n",
    "   /|       |\\\n",
    "`__\\\\       //__'\n",
    "   ||      ||\n",
    " \\__`\\     |'__/\n",
    "   `_\\\\   //_'\n",
    "   _.,:---;,._\n",
    "   \\_:     :_/\n",
    "     |@. .@|\n",
    "     |     |\n",
    "     ,\\.-./ \\\n",
    "     ;;`-'   `---__________-----.-.\n",
    "     ;;;                         \\_\\\n",
    "     ';;;                         |\n",
    "      ;    |                      ;\n",
    "       \\   \\     \\        |      /\n",
    "        \\_, \\    /        \\     |\\\n",
    "          |';|  |,,,,,,,,/ \\    \\ \\_\n",
    "          |  |  |           \\   /   |\n",
    "          \\  \\  |           |  / \\  |\n",
    "           | || |           | |   | |\n",
    "           | || |           | |   | |\n",
    "           | || |           | |   | |\n",
    "           |_||_|           |_|   |_|\n",
    "          /_//_/           /_/   /_/\n",
    "Our 'Bambi' looks hungry. Let's go to feed it!\"\"\"\n",
    "\n",
    "goose = r\"\"\"\n",
    "Switching on the camera in the goose habitat...\n",
    "\n",
    "                                    _\n",
    "                                ,-\"\" \"\".\n",
    "                              ,'  ____  `.\n",
    "                            ,'  ,'    `.  `._\n",
    "   (`.         _..--.._   ,'  ,'        \\    \\\n",
    "  (`-.\\    .-\"\"        \"\"'   /          (  d _b\n",
    " (`._  `-\"\" ,._             (            `-(   \\\n",
    " <_  `     (  <`<            \\              `-._\\\n",
    "  <`-       (__< <           :\n",
    "   (__        (_<_<          ;\n",
    "    `------------------------------------------\n",
    "The goose is staring intently at you... Maybe it's time to change the channel?\"\"\"\n",
    "\n",
    "bat = r\"\"\"\n",
    "Switching on the camera in the bat habitat...\n",
    "_________________               _________________\n",
    " ~-.              \\  |\\___/|  /              .-~\n",
    "     ~-.           \\ / o o \\ /           .-~\n",
    "        >           \\\\  W  //           <\n",
    "       /             /~---~\\             \\\n",
    "      /_            |       |            _\\\n",
    "         ~-.        |       |        .-~\n",
    "            ;        \\     /        i\n",
    "           /___      /\\   /\\      ___\\\n",
    "                ~-. /  \\_/  \\ .-~\n",
    "                   V         V\n",
    "This bat looks like it's doing fine.\"\"\"\n",
    "\n",
    "rabbit = r\"\"\"\n",
    "Switching on the camera in the rabbit habitat...\n",
    "         ,\n",
    "        /|      __\n",
    "       / |   ,-~ /\n",
    "      Y :|  //  /\n",
    "      | jj /( .^\n",
    "      >-\"~\"-v\"\n",
    "     /       Y\n",
    "    jo  o    |\n",
    "   ( ~T~     j\n",
    "    >._-' _./\n",
    "   /   \"~\"  |\n",
    "  Y     _,  |\n",
    " /| ;-\"~ _  l\n",
    "/ l/ ,-\"~    \\\n",
    "\\//\\/      .- \\\n",
    " Y        /    Y\n",
    " l       I     !\n",
    " ]\\      _\\    /\"\\\n",
    "(\" ~----( ~   Y.  )\n",
    "It looks like we will soon have more rabbits!\"\"\"\n",
    "\n",
    "\n",
    "# write your code here\n",
    "animals=['camel','lion','deer','goose','bat','rabbit']\n",
    "msg = int(input(\"Please enter the number of the habitat you would like to view: \"))\n",
    "print(animals[msg])\n",
    "print(\"\"\"---\n",
    "You've reached the end of the program. To check another habitat, please restart the watcher.\"\"\")\n"
   ]
  },
  {
   "cell_type": "code",
   "execution_count": 1,
   "metadata": {},
   "outputs": [
    {
     "name": "stdout",
     "output_type": "stream",
     "text": [
      "2\n"
     ]
    }
   ],
   "source": [
    "print(2)"
   ]
  },
  {
   "cell_type": "code",
   "execution_count": 3,
   "metadata": {},
   "outputs": [
    {
     "name": "stdout",
     "output_type": "stream",
     "text": [
      "Please enter the number of the habitat you would like to view: 1\n",
      "\n",
      "Switching on the camera in the lion habitat...\n",
      "                                               ,w.\n",
      "                                             ,YWMMw  ,M  ,\n",
      "                        _.---.._   __..---._.'MMMMMw,wMWmW,\n",
      "                   _.-\"\"        '''           YP\"WMMMMMMMMMb,\n",
      "                .-' __.'                   .'     MMMMW^WMMMM;\n",
      "    _,        .'.-'\"; `,       /`     .--\"\"      :MMM[==MWMW^;\n",
      " ,mM^\"     ,-'.'   /   ;      ;      /   ,       MMMMb_wMW\"  @\\\n",
      ",MM:.    .'.-'   .'     ;     `\\    ;     `,     MMMMMMMW `\"=./`-,\n",
      "WMMm__,-'.'     /      _.\\      F'''-+,,   ;_,_.dMMMMMMMM[,_ / `=_}\n",
      "\"^MP__.-'    ,-' _.--\"\"   `-,   ;       \\  ; ;MMMMMMMMMMW^``; __|\n",
      "           /   .'            ; ;         )  )`{  \\ `\"^W^`,   \\  :\n",
      "          /  .'             /  (       .'  /     Ww._     `.  `\"\n",
      "         /  Y,              `,  `-,=,_{   ;      MMMP`\"\"-,  `-._.-,\n",
      "        (--, )                `,_ / `) \\/\"\")      ^\"      `-, -;\"\\:\n",
      "The lion is roaring!\n",
      "---\n",
      "You've reached the end of the program. To check another habitat, please restart the watcher.\n"
     ]
    }
   ],
   "source": [
    "camel = r\"\"\"\n",
    "Switching on the camera in the camel habitat...\n",
    " ___.-''''-.\n",
    "/___  @    |\n",
    "',,,,.     |         _.'''''''._\n",
    "     '     |        /           \\\n",
    "     |     \\    _.-'             \\\n",
    "     |      '.-'                  '-.\n",
    "     |                               ',\n",
    "     |                                '',\n",
    "      ',,-,                           ':;\n",
    "           ',,| ;,,                 ,' ;;\n",
    "              ! ; !'',,,',',,,,'!  ;   ;:\n",
    "             : ;  ! !       ! ! ;  ;   :;\n",
    "             ; ;   ! !      ! !  ; ;   ;,\n",
    "            ; ;    ! !     ! !   ; ;\n",
    "            ; ;    ! !    ! !     ; ;\n",
    "           ;,,      !,!   !,!     ;,;\n",
    "           /_I      L_I   L_I     /_I\n",
    "Look at that! Our little camel is sunbathing!\"\"\"\n",
    "\n",
    "lion = r\"\"\"\n",
    "Switching on the camera in the lion habitat...\n",
    "                                               ,w.\n",
    "                                             ,YWMMw  ,M  ,\n",
    "                        _.---.._   __..---._.'MMMMMw,wMWmW,\n",
    "                   _.-\"\"        '''           YP\"WMMMMMMMMMb,\n",
    "                .-' __.'                   .'     MMMMW^WMMMM;\n",
    "    _,        .'.-'\"; `,       /`     .--\"\"      :MMM[==MWMW^;\n",
    " ,mM^\"     ,-'.'   /   ;      ;      /   ,       MMMMb_wMW\"  @\\\n",
    ",MM:.    .'.-'   .'     ;     `\\    ;     `,     MMMMMMMW `\"=./`-,\n",
    "WMMm__,-'.'     /      _.\\      F'''-+,,   ;_,_.dMMMMMMMM[,_ / `=_}\n",
    "\"^MP__.-'    ,-' _.--\"\"   `-,   ;       \\  ; ;MMMMMMMMMMW^``; __|\n",
    "           /   .'            ; ;         )  )`{  \\ `\"^W^`,   \\  :\n",
    "          /  .'             /  (       .'  /     Ww._     `.  `\"\n",
    "         /  Y,              `,  `-,=,_{   ;      MMMP`\"\"-,  `-._.-,\n",
    "        (--, )                `,_ / `) \\/\"\")      ^\"      `-, -;\"\\:\n",
    "The lion is roaring!\"\"\"\n",
    "\n",
    "deer = r\"\"\"\n",
    "Switching on the camera in the deer habitat...\n",
    "   /|       |\\\n",
    "`__\\\\       //__'\n",
    "   ||      ||\n",
    " \\__`\\     |'__/\n",
    "   `_\\\\   //_'\n",
    "   _.,:---;,._\n",
    "   \\_:     :_/\n",
    "     |@. .@|\n",
    "     |     |\n",
    "     ,\\.-./ \\\n",
    "     ;;`-'   `---__________-----.-.\n",
    "     ;;;                         \\_\\\n",
    "     ';;;                         |\n",
    "      ;    |                      ;\n",
    "       \\   \\     \\        |      /\n",
    "        \\_, \\    /        \\     |\\\n",
    "          |';|  |,,,,,,,,/ \\    \\ \\_\n",
    "          |  |  |           \\   /   |\n",
    "          \\  \\  |           |  / \\  |\n",
    "           | || |           | |   | |\n",
    "           | || |           | |   | |\n",
    "           | || |           | |   | |\n",
    "           |_||_|           |_|   |_|\n",
    "          /_//_/           /_/   /_/\n",
    "Our 'Bambi' looks hungry. Let's go to feed it!\"\"\"\n",
    "\n",
    "goose = r\"\"\"\n",
    "Switching on the camera in the goose habitat...\n",
    "\n",
    "                                    _\n",
    "                                ,-\"\" \"\".\n",
    "                              ,'  ____  `.\n",
    "                            ,'  ,'    `.  `._\n",
    "   (`.         _..--.._   ,'  ,'        \\    \\\n",
    "  (`-.\\    .-\"\"        \"\"'   /          (  d _b\n",
    " (`._  `-\"\" ,._             (            `-(   \\\n",
    " <_  `     (  <`<            \\              `-._\\\n",
    "  <`-       (__< <           :\n",
    "   (__        (_<_<          ;\n",
    "    `------------------------------------------\n",
    "The goose is staring intently at you... Maybe it's time to change the channel?\"\"\"\n",
    "\n",
    "bat = r\"\"\"\n",
    "Switching on the camera in the bat habitat...\n",
    "_________________               _________________\n",
    " ~-.              \\  |\\___/|  /              .-~\n",
    "     ~-.           \\ / o o \\ /           .-~\n",
    "        >           \\\\  W  //           <\n",
    "       /             /~---~\\             \\\n",
    "      /_            |       |            _\\\n",
    "         ~-.        |       |        .-~\n",
    "            ;        \\     /        i\n",
    "           /___      /\\   /\\      ___\\\n",
    "                ~-. /  \\_/  \\ .-~\n",
    "                   V         V\n",
    "This bat looks like it's doing fine.\"\"\"\n",
    "\n",
    "rabbit = r\"\"\"\n",
    "Switching on the camera in the rabbit habitat...\n",
    "         ,\n",
    "        /|      __\n",
    "       / |   ,-~ /\n",
    "      Y :|  //  /\n",
    "      | jj /( .^\n",
    "      >-\"~\"-v\"\n",
    "     /       Y\n",
    "    jo  o    |\n",
    "   ( ~T~     j\n",
    "    >._-' _./\n",
    "   /   \"~\"  |\n",
    "  Y     _,  |\n",
    " /| ;-\"~ _  l\n",
    "/ l/ ,-\"~    \\\n",
    "\\//\\/      .- \\\n",
    " Y        /    Y\n",
    " l       I     !\n",
    " ]\\      _\\    /\"\\\n",
    "(\" ~----( ~   Y.  )\n",
    "It looks like we will soon have more rabbits!\"\"\"\n",
    "\n",
    "\n",
    "# write your code here\n",
    "animals=[camel,lion,deer,goose,bat,rabbit]\n",
    "msg = int(input(\"Please enter the number of the habitat you would like to view: \"))\n",
    "print(animals[msg])\n",
    "print(\"\"\"---\n",
    "You've reached the end of the program. To check another habitat, please restart the watcher.\"\"\")\n"
   ]
  },
  {
   "cell_type": "markdown",
   "metadata": {},
   "source": [
    "# Theory: Integer arithmetic\n",
    "In real life, we often perform arithmetic operations. They help us to calculate the change from a purchase, determine the area of a room, count the number of people in a line, and so on. The same operations are used in programs.\n",
    "\n",
    "Basic operations\n",
    "Python supports basic arithmetic operations:\n",
    "\n",
    "addition +\n",
    "subtraction -\n",
    "multiplication *\n",
    "division /\n",
    "integer division //\n",
    "The examples below show how it works for numbers.\n",
    "\n",
    "print(10 + 10)   # 20\n",
    "print(100 - 10)  # 90\n",
    "print(10 * 10)   # 100\n",
    "print(77 / 10)   # 7.7\n",
    "print(77 // 10)  # 7\n",
    "There is a difference between division / and integer division //. The first produces a floating-point number (like 7.7), while the second one produces an integer value (like 7) ignoring the decimal part.\n",
    "\n",
    "Python raises an error if you try to divide by zero.\n",
    "\n",
    "ZeroDivisionError: division by zero\n",
    "Writing complex expressions\n",
    "Arithmetic operations can be combined to write more complex expressions:\n",
    "\n",
    "print(2 + 2 * 2)  # 6\n",
    "The calculation order coincides with the rules of arithmetic operations. Multiplication has a higher priority level than addition and subtraction, so the operation 2 * 2 is calculated first.\n",
    "\n",
    "To specify an order of execution, you can use parentheses, as in the following:\n",
    "\n",
    "print((2 + 2) * 2)  # 8\n",
    "Like in arithmetic, parentheses can be nested inside each other. You can also use them for clarity.\n",
    "\n",
    "The minus operator has a unary form that negates the value or expression. A positive number becomes negative, and a negative number becomes positive.\n",
    "\n",
    "print(-10)  # -10\n",
    "print(-(100 + 200))  # -300\n",
    "print(-(-20))  # 20\n",
    "Other operations\n",
    "The remainder of a division. Python modulo operator % is used to get the remainder of a division. It may come in handy when you want to check if a number is even. Applied to 2, it returns 1 for odd numbers and 0 for the even ones.\n",
    "\n",
    "print(7 % 2)  # 1, because 7 is an odd number\n",
    "print(8 % 2)  # 0, because 8 is an even number\n",
    "Here are some more examples:\n",
    "\n",
    "# Divide the number by itself\n",
    "print(4 % 4)     # 0\n",
    "# At least one number is a float\n",
    "print(11 % 6.0)  # 5.0\n",
    "# The first number is less than the divisor\n",
    "print(55 % 77)   # 55\n",
    "# With negative numbers, it preserves the divisor sign\n",
    "print(-11 % 5)    # 4\n",
    "print(11 % -5)    # -4\n",
    "Taking the remainder of the division by 0 also leads to ZeroDivisionError.\n",
    "The behavior of the mod function in Python might seem unexpected at first glance. While 11 % 5 = 1 and -11 % -5 = -1 when both numbers on the left are of the same sign, 11 % -5 = -4 and -11 % 5 = 4 if we have one negative number. The thing is, in Python, the remainder always has the same sign as the divisor.\n",
    "\n",
    "In the first case, 11 % -5 = -4, as the remainder should be negative, we need to compare 15 and 11, not 10 and 11: 11 = (-5) * (-3) + (-4). In the second case, -11 % 5 = 4, the remainder is supposed to be positive: -11 = 5 * (-3) + 4.\n",
    "\n",
    "Exponentiation. Here is a way to raise a number to a power:\n",
    "\n",
    "print(10 ** 2)  # 100\n",
    "This operation has a higher priority over multiplication.\n",
    "\n",
    "Operation priority\n",
    "To sum up, there is a list of priorities for all considered operations:\n",
    "\n",
    "parentheses\n",
    "power\n",
    "unary minus\n",
    "multiplication, division, and remainder\n",
    "addition and subtraction\n",
    "As mentioned above, the unary minus changes the sign of its argument.\n",
    "\n",
    "Sometimes operations have the same priority:\n",
    "\n",
    "print(10 / 5 / 2)  # 1.0\n",
    "print(8 / 2 * 5)   # 20.0\n",
    "The expressions above may seem ambiguous to you, since they have alternative solutions depending on the operation order: either 1.0 or 4.0 in the first example, and either 20.0 or 0.8 in the second one. In such cases, Python follows a left-to-right operation convention from mathematics. It's a good thing to know, so try to keep that in mind, too!\n",
    "\n",
    "PEP time!\n",
    "There are a few things to mention about the use of binary operators, that is, operators that influence both operands. As you know, readability matters in Python. So, first, remember to surround a binary operator with a single space on both sides:\n",
    "\n",
    "number=30+12      # No!\n",
    "\n",
    "number = 30 + 12  # It's better this way\n",
    "Also, sometimes people use the break after binary operators. But this can hurt readability in two ways:\n",
    "\n",
    "the operators are not in one column,\n",
    "each operator has moved away from its operand and onto the previous line:\n",
    "# No: operators sit far away from their operands\n",
    "income = (gross_wages +\n",
    "          taxable_interest +\n",
    "          (dividends - qualified_dividends) -\n",
    "          ira_deduction -\n",
    "          student_loan_interest)\n",
    "Mathematicians and their publishers follow the opposite convention in order to solve the readability problem. Donald Knuth explains this in his Computers and Typesetting series: \"Although formulas within a paragraph always break after binary operations and relations, displayed formulas always break before binary operations\". Following this tradition makes the code more readable:\n",
    "\n",
    "# Yes: easy to match operators with operands\n",
    "income = (gross_wages\n",
    "          + taxable_interest\n",
    "          + (dividends - qualified_dividends)\n",
    "          - ira_deduction\n",
    "          - student_loan_interest)"
   ]
  },
  {
   "cell_type": "code",
   "execution_count": 9,
   "metadata": {},
   "outputs": [
    {
     "name": "stdout",
     "output_type": "stream",
     "text": [
      "3\n",
      "14\n",
      "3\n"
     ]
    }
   ],
   "source": [
    "n_squirrel = int(input())\n",
    "n_nut = int(input())\n",
    "print(n_nyt % n_squirrel)"
   ]
  },
  {
   "cell_type": "code",
   "execution_count": 11,
   "metadata": {},
   "outputs": [
    {
     "name": "stdout",
     "output_type": "stream",
     "text": [
      "123\n",
      "6\n"
     ]
    }
   ],
   "source": [
    "digit = input()\n",
    "sum_ = int(digit[0])+int(digit[1])+int(digit[2])\n",
    "print(sum_)"
   ]
  },
  {
   "cell_type": "code",
   "execution_count": 13,
   "metadata": {},
   "outputs": [
    {
     "name": "stdout",
     "output_type": "stream",
     "text": [
      "20\n"
     ]
    },
    {
     "ename": "TypeError",
     "evalue": "'int' object is not iterable",
     "output_type": "error",
     "traceback": [
      "\u001b[1;31m---------------------------------------------------------------------------\u001b[0m",
      "\u001b[1;31mTypeError\u001b[0m                                 Traceback (most recent call last)",
      "\u001b[1;32m<ipython-input-13-6e257f73cc4c>\u001b[0m in \u001b[0;36m<module>\u001b[1;34m\u001b[0m\n\u001b[0;32m      2\u001b[0m \u001b[0mn_student\u001b[0m \u001b[1;33m=\u001b[0m \u001b[0minput\u001b[0m\u001b[1;33m(\u001b[0m\u001b[1;33m)\u001b[0m\u001b[1;33m\u001b[0m\u001b[1;33m\u001b[0m\u001b[0m\n\u001b[0;32m      3\u001b[0m \u001b[0mlist_n_student\u001b[0m\u001b[1;33m=\u001b[0m \u001b[0mlist\u001b[0m\u001b[1;33m(\u001b[0m\u001b[0mn_student\u001b[0m\u001b[1;33m)\u001b[0m\u001b[1;33m\u001b[0m\u001b[1;33m\u001b[0m\u001b[0m\n\u001b[1;32m----> 4\u001b[1;33m \u001b[1;32mfor\u001b[0m \u001b[0mi\u001b[0m \u001b[1;32min\u001b[0m \u001b[0mlen\u001b[0m\u001b[1;33m(\u001b[0m\u001b[0mlist_n_student\u001b[0m\u001b[1;33m)\u001b[0m\u001b[1;33m:\u001b[0m\u001b[1;33m\u001b[0m\u001b[1;33m\u001b[0m\u001b[0m\n\u001b[0m\u001b[0;32m      5\u001b[0m     \u001b[0mprint\u001b[0m\u001b[1;33m(\u001b[0m\u001b[1;33m(\u001b[0m\u001b[1;33m(\u001b[0m\u001b[0mlist_n_student\u001b[0m\u001b[1;33m[\u001b[0m\u001b[0mi\u001b[0m\u001b[1;33m]\u001b[0m\u001b[1;33m)\u001b[0m \u001b[1;33m/\u001b[0m \u001b[1;36m2\u001b[0m\u001b[1;33m)\u001b[0m \u001b[1;33m+\u001b[0m \u001b[1;33m(\u001b[0m\u001b[1;33m(\u001b[0m\u001b[0mlist_n_student\u001b[0m\u001b[1;33m[\u001b[0m\u001b[0mi\u001b[0m\u001b[1;33m]\u001b[0m\u001b[1;33m)\u001b[0m \u001b[1;33m%\u001b[0m \u001b[1;36m2\u001b[0m\u001b[1;33m)\u001b[0m\u001b[1;33m)\u001b[0m\u001b[1;33m\u001b[0m\u001b[1;33m\u001b[0m\u001b[0m\n",
      "\u001b[1;31mTypeError\u001b[0m: 'int' object is not iterable"
     ]
    }
   ],
   "source": [
    "# put your python code here\n",
    "n_student = input()\n",
    "list_n_student= list(n_student)\n",
    "for i in len(list_n_student):\n",
    "    print(((list_n_student[i]) / 2) + ((list_n_student[i]) % 2))"
   ]
  },
  {
   "cell_type": "code",
   "execution_count": 14,
   "metadata": {},
   "outputs": [
    {
     "data": {
      "text/plain": [
       "63"
      ]
     },
     "execution_count": 14,
     "metadata": {},
     "output_type": "execute_result"
    }
   ],
   "source": [
    "20+21+22 "
   ]
  },
  {
   "cell_type": "code",
   "execution_count": 15,
   "metadata": {},
   "outputs": [
    {
     "data": {
      "text/plain": [
       "32.5"
      ]
     },
     "execution_count": 15,
     "metadata": {},
     "output_type": "execute_result"
    }
   ],
   "source": [
    "63/2 + 63%2"
   ]
  },
  {
   "cell_type": "code",
   "execution_count": 23,
   "metadata": {},
   "outputs": [
    {
     "name": "stdout",
     "output_type": "stream",
     "text": [
      "17\n",
      "22\n",
      "23\n",
      "32\n"
     ]
    }
   ],
   "source": [
    "first_class_n_student = abs(int(input()))\n",
    "second_class_n_student = abs(int(input()))\n",
    "third_class_n_student = abs(int(input()))\n",
    "class1_desk = (first_class_n_student // 2) + (first_class_n_student % 2)\n",
    "class2_desk = (second_class_n_student // 2) + (second_class_n_student % 2)\n",
    "class3_desk = (third_class_n_student // 2) + (third_class_n_student % 2)\n",
    "req_desk = class1_desk + class2_desk + class3_desk\n",
    "print(req_desk)"
   ]
  },
  {
   "cell_type": "markdown",
   "metadata": {},
   "source": [
    "# A school has decided to create three new math groups and equip three classrooms for them with new desks. At most two students may sit at any desk. The number of students in each of the three groups is known. Output the smallest number of desks to be purchased.\n",
    "\n",
    "Each group will sit in its own classroom.\n",
    "\n",
    "Input data format:\n",
    "\n",
    "The program receives the input of three non-negative integers: the number of students in each of the three classes (the numbers do not exceed 1000).\n",
    "\n",
    " Report a typo\n",
    "Sample Input 1:\n",
    "\n",
    "20\n",
    "21\n",
    "22\n",
    "Sample Output 1:\n",
    "\n",
    "32\n",
    "Sample Input 2:\n",
    "\n",
    "16\n",
    "18\n",
    "20\n",
    "Sample Output 2:\n",
    "\n",
    "27\n",
    " Write a program\n",
    "\n",
    "first_class_n_student = abs(int(input()))\n",
    "second_class_n_student = abs(int(input()))\n",
    "third_class_n_student = abs(int(input()))\n",
    "class1_desk = (first_class_n_student // 2) + (first_class_n_student % 2)\n",
    "class2_desk = (second_class_n_student // 2) + (second_class_n_student % 2)\n",
    "class3_desk = (third_class_n_student // 2) + (third_class_n_student % 2)\n",
    "req_desk = class1_desk + class2_desk + class3_desk\n",
    "print(req_desk)\n",
    "\n",
    "# put your python code here\n",
    "num1 = int(input())\n",
    "num2 = int(input())\n",
    "num3 = int(input())\n",
    "\n",
    "print((num1 + 1) // 2 + (num2 + 1) // 2 + (num3 + 1) // 2)\n",
    "\n",
    "# put your python code here\n",
    "c1 = int(input())\n",
    "c2 = int(input())\n",
    "c3 = int(input())\n",
    "\n",
    "def test(c):\n",
    "    if c % 2 == 0:\n",
    "        return c // 2\n",
    "    else: \n",
    "        return (c // 2) + 1\n",
    "\n",
    "a = test(c1)\n",
    "b = test(c2)\n",
    "cc = test(c3)\n",
    "print(a + b + cc)\n",
    "\n",
    "# import math\n",
    "n1, n2, n3 = int(input()), int(input()), int(input())\n",
    "print(math.ceil(n1 / 2) + math.ceil(n2 / 2) + math.ceil(n3 / 2))\n",
    "\n",
    "# put your python code here\n",
    "res = 0\n",
    "for _ in range(3):\n",
    "    a = int(input())\n",
    "    res += (a + 1) // 2\n",
    "print(res)\n",
    "\n",
    "# put your python code here\n",
    "desks = sum((int(input()) + 1) // 2 for _ in range(3))\n",
    "print(desks)\n",
    "\n",
    "# code\n",
    "list_ = [int(input()), int(input()), int(input())]\n",
    "print((list_[0] % 2 + list_[1] % 2 + list_[2] % 2 + sum(list_)) // 2)\n",
    "\n",
    "# \n",
    "total_desks = 0\n",
    "for _ in range(3):\n",
    "    students = int(input())\n",
    "    desks = students // 2 + students % 2\n",
    "    total_desks += desks \n",
    "    \n",
    "print(total_desks)"
   ]
  },
  {
   "cell_type": "code",
   "execution_count": 1,
   "metadata": {},
   "outputs": [
    {
     "name": "stdout",
     "output_type": "stream",
     "text": [
      "False\n"
     ]
    }
   ],
   "source": [
    "to_be = True\n",
    "not_to_be = not to_be\n",
    "print(not_to_be)"
   ]
  },
  {
   "cell_type": "code",
   "execution_count": 21,
   "metadata": {},
   "outputs": [
    {
     "name": "stdout",
     "output_type": "stream",
     "text": [
      "100\n"
     ]
    }
   ],
   "source": [
    "truthy_integer = False or 5 and 100\n",
    "print(truthy_integer)"
   ]
  },
  {
   "cell_type": "code",
   "execution_count": 24,
   "metadata": {},
   "outputs": [
    {
     "ename": "ZeroDivisionError",
     "evalue": "division by zero",
     "output_type": "error",
     "traceback": [
      "\u001b[1;31m---------------------------------------------------------------------------\u001b[0m",
      "\u001b[1;31mZeroDivisionError\u001b[0m                         Traceback (most recent call last)",
      "\u001b[1;32m<ipython-input-24-be60930a67b9>\u001b[0m in \u001b[0;36m<module>\u001b[1;34m\u001b[0m\n\u001b[1;32m----> 1\u001b[1;33m \u001b[0mlazy_and\u001b[0m \u001b[1;33m=\u001b[0m \u001b[1;32mTrue\u001b[0m \u001b[1;32mand\u001b[0m \u001b[1;33m(\u001b[0m\u001b[1;36m1\u001b[0m \u001b[1;33m/\u001b[0m \u001b[1;36m0\u001b[0m\u001b[1;33m)\u001b[0m\u001b[1;33m\u001b[0m\u001b[1;33m\u001b[0m\u001b[0m\n\u001b[0m\u001b[0;32m      2\u001b[0m \u001b[1;33m\u001b[0m\u001b[0m\n\u001b[0;32m      3\u001b[0m \u001b[0mprint\u001b[0m\u001b[1;33m(\u001b[0m\u001b[0mlazy_and\u001b[0m\u001b[1;33m)\u001b[0m\u001b[1;33m\u001b[0m\u001b[1;33m\u001b[0m\u001b[0m\n",
      "\u001b[1;31mZeroDivisionError\u001b[0m: division by zero"
     ]
    }
   ],
   "source": [
    "lazy_and = True and (1 / 0) \n",
    "\n",
    "print(lazy_and)"
   ]
  },
  {
   "cell_type": "markdown",
   "metadata": {},
   "source": [
    "# Theory: Boolean logic\n",
    "Boolean type\n",
    "The Boolean type, or simply bool, is a special data type that has only two possible values: True and False. In Python the names of boolean values start with a capital letter.\n",
    "\n",
    "In programming languages the boolean, or logical, type is a common way to represent something that has only two opposite states like on or off, yes or no, etc.\n",
    "\n",
    "If you are writing an application that keeps track of door openings, you'll find it natural to use bool to store the current door state.\n",
    "\n",
    "is_open = True\n",
    "is_closed = False\n",
    "\n",
    "print(is_open)    # True\n",
    "print(is_closed)  # False\n",
    "Boolean operations\n",
    "There are three built-in boolean operators in Python: and, or and not. The first two are binary operators which means that they expect two arguments. not is a unary operator, it is always applied to a single operand. First, let's look at these operators applied to the boolean values.\n",
    "\n",
    "and is a binary operator, it takes two arguments and returns True if both arguments are true, otherwise, it returns False.\n",
    "a = True and True    # True\n",
    "b = True and False   # False\n",
    "c = False and False  # False\n",
    "d = False and True   # False\n",
    "or is a binary operator, it returns True if at least one argument is true, otherwise, it returns False.\n",
    "a = True or True    # True\n",
    "b = True or False   # True\n",
    "c = False or False  # False\n",
    "d = False or True   # True\n",
    "not is a unary operator, it reverses the boolean value of its argument.\n",
    "to_be = True           # to_be is True\n",
    "not_to_be = not to_be  # not_to_be is False\n",
    "The precedence of boolean operations\n",
    "Logical operators have a different priority and it affects the order of evaluation. Here are the operators in order of their priorities: not, and, or. So, not is considered first, then and, finally or. Having this in mind, consider the following expression:\n",
    "\n",
    "print(False or not False)  # True\n",
    "First, the part not False gets evaluated, and after evaluation, we are left with False or True. This results in True, if you recall the previous section.\n",
    "\n",
    "While dealing solely with the boolean values may seem obvious, the precedence of logical operations will be quite important to remember when you start working with so-called truthy and falsy values.\n",
    "\n",
    "Truthy and falsy values\n",
    "Though Python has the boolean data type, we often want to use non-boolean values in a logical context. And Python lets you test almost any object for truthfulness. When used with logical operators, values of non-boolean types, such as integers or strings, are called truthy or falsy. It depends on whether they are interpreted as True or False.\n",
    "\n",
    "The following values are evaluated to False in Python:\n",
    "\n",
    "constants defined to be false: None and False,\n",
    "zero of any numeric type: 0, 0.0,\n",
    "empty sequences and containers: \"\", [], {}.\n",
    "Anything else generally evaluates to True. Here is a couple of examples:\n",
    "\n",
    "print(0.0 or False)  # False\n",
    "print(\"True\" and True)  # True\n",
    "print(\"\" or False)  # False\n",
    "Generally speaking, and and or could take any arguments that can be tested for a boolean value.\n",
    "\n",
    "Now we can demonstrate more clearly the difference in operator precedence:\n",
    "\n",
    "# `and` has a higher priority than `or`\n",
    "truthy_integer = False or 5 and 100  # 100\n",
    "Again, let's break the above expression into parts. Since the operator and has a higher priority than or, we should look at the 5 and 100 part. Both 100 and 5 happen to be truthy values, so this operation will return 100. You have never seen this before, so it's natural to wonder why we have a number instead of the True value here. We'll cover this surprising fact shortly. Coming back to the original expression, you can see that the last part False or 100 does exactly the same thing, returns 100 instead of True.\n",
    "\n",
    "The operators or and and return one of their operands, not necessarily of the boolean type. Nonetheless, not always returns a boolean value.\n",
    "Another tricky example is below:\n",
    "\n",
    "tricky = not (False or '')  # True\n",
    "A pair of parentheses is a way to specify the order in which the operations are performed. Thus, we evaluate this part of the expression first: False or ''. This operand '' evaluates to False and or returns this empty string. Since the result of the enclosed expression is negated, we get True in the end: not '' is the same as True. Why didn't we get, say, a non-empty string? The not operator creates a new value, which by default has the boolean type. So, as stated earlier, the unary operator always returns a logical value.\n",
    "\n",
    "Short-circuit evaluation\n",
    "The last thing to mention is that logical operators in Python are short-circuited. That's why they are also called lazy. That means that the second operand in such an expression is evaluated only if the first one is not sufficient to evaluate the whole expression.\n",
    "\n",
    "x and y returns x if x is falsy; otherwise, it evaluates and returns y.\n",
    "\n",
    "x or y returns x if x is truthy; otherwise, it evaluates and returns y.\n",
    "\n",
    "For instance:\n",
    "\n",
    "# division is never evaluated, because the first argument is True\n",
    "lazy_or = True or (1 / 0)  # True\n",
    "\n",
    "# division is never evaluated, because the first argument is False\n",
    "lazy_and = False and (1 / 0)  # False\n",
    "Those were the very basics of boolean values and logical operations in Python. It's definitely good to know them right from the beginning!"
   ]
  },
  {
   "cell_type": "code",
   "execution_count": 27,
   "metadata": {},
   "outputs": [
    {
     "data": {
      "text/plain": [
       "True"
      ]
     },
     "execution_count": 27,
     "metadata": {},
     "output_type": "execute_result"
    }
   ],
   "source": [
    "True or 100"
   ]
  },
  {
   "cell_type": "code",
   "execution_count": 33,
   "metadata": {},
   "outputs": [
    {
     "name": "stdout",
     "output_type": "stream",
     "text": [
      "True\n"
     ]
    }
   ],
   "source": [
    "print(not None)"
   ]
  },
  {
   "cell_type": "markdown",
   "metadata": {},
   "source": [
    "Assuming that variables have the following boolean values:\n",
    "\n",
    "a = True\n",
    "b = False\n",
    "c = a and not b\n",
    "Enter the result of evaluating the expression:\n",
    "\n",
    "a and (not c or b)\n",
    " Report a typo\n",
    " Enter a short text\n",
    "False (correct)"
   ]
  },
  {
   "cell_type": "code",
   "execution_count": 16,
   "metadata": {},
   "outputs": [
    {
     "name": "stdout",
     "output_type": "stream",
     "text": [
      "3\n",
      "40\n",
      "120\n",
      "True\n",
      "3\n",
      "40\n",
      "120\n",
      "True\n"
     ]
    }
   ],
   "source": [
    "n_hall = int(input())\n",
    "hall_capacity = int(input())\n",
    "n_viewer = int(input())\n",
    "print(n_hall * hall_capacity >= n_viewer)\n",
    "\n",
    "#second option\n",
    "print(\"True\" if int(input()) * int(input()) >= int(input()) else \"False\")\n",
    "\n",
    "\n"
   ]
  },
  {
   "cell_type": "code",
   "execution_count": 4,
   "metadata": {},
   "outputs": [
    {
     "name": "stdout",
     "output_type": "stream",
     "text": [
      "0\n",
      "False\n"
     ]
    }
   ],
   "source": [
    "a = int(input().strip())\n",
    "print((a>0))"
   ]
  },
  {
   "cell_type": "markdown",
   "metadata": {},
   "source": [
    "Find out if the result of dividing A by B is an odd number.\n",
    "\n",
    "The input format:\n",
    "\n",
    "The first line is the dividend (A) and the second line is the divisor (B). It is guaranteed that the numbers are divided without remainder.\n",
    "\n",
    "The output format:\n",
    "\n",
    "True or False\n",
    "\n",
    " Report a typo\n",
    "Sample Input 1:\n",
    "\n",
    "99\n",
    "3\n",
    "Sample Output 1:\n",
    "\n",
    "True\n",
    "\n",
    "print(\"True\" if int(input()) // int(input()) % 2 != 0 else \"Flase\")"
   ]
  },
  {
   "cell_type": "code",
   "execution_count": 37,
   "metadata": {},
   "outputs": [
    {
     "name": "stdout",
     "output_type": "stream",
     "text": [
      "10000000000\n",
      "5\n",
      "Flase\n"
     ]
    }
   ],
   "source": [
    "print(\"True\" if int(input()) // int(input()) % 2 != 0 else \"Flase\")"
   ]
  },
  {
   "cell_type": "code",
   "execution_count": null,
   "metadata": {},
   "outputs": [],
   "source": [
    "# Theory: If statement\n",
    "Simple if statement\n",
    "There are situations when your program needs to execute some piece of the code only if a particular condition is true. Such a piece of the code should be placed within the body of an if statement. The pattern is the same as in the English language: first comes the keyword if , then a condition, and then a list of expressions to execute. The condition is always a Boolean expression, that is, its value equals either True or False. Here is one example of how the code with a conditional expression should look like:\n",
    "\n",
    "biscuits = 17\n",
    "if biscuits >= 5:\n",
    "    print(\"It's time for tea!\")\n",
    "Note that the condition ends with a colon and a new line starts with an indentation. Usually, 4 spaces are used to designate each level of indentation. A piece of code in which all lines are on the same level of indentation is called a block of code. In Python, only indentation is used to separate different blocks of code, hence, only indentation shows which lines of code are supposed to be executed when the if statement is satisfied, and which ones should be executed independently of the if statement. Check out the following example:\n",
    "\n",
    "if biscuits >= 5:\n",
    "    print(\"It's time for tea!\")\n",
    "    print(\"What tea do you prefer?\")\n",
    "print(\"What about some chocolate?\")\n",
    "In this example, the line \"It's time for tea!\", as well as \"What tea do you prefer?\", will be printed only if there are 5 or more biscuits. The line \"What about some chocolate?\" will be printed regardless of the number of biscuits.\n",
    "\n",
    "An if statement is executed only if its condition holds (the Boolean value is True), otherwise, it's skipped.\n",
    "\n",
    "Boolean values basically make it clear whether a piece of code needs to be executed or not. Since comparisons result in bool, it's always a good idea to use them as a condition.\n",
    "\n",
    "There is one pitfall, though. You should not confuse the comparison operator for equality == with the assignment operator =. Only the former provides for a proper condition. Try to avoid this common mistake in your code.\n",
    "Nested if statement\n",
    "Sometimes a condition happens to be too complicated for a simple if statement. In this case, you can use so-called nested if statements. The more if statements are nested, the more complex your code gets, which is usually not a good thing. However, this doesn't mean that you need to avoid nested if statements at all costs. Let's take a look at the code below:\n",
    "\n",
    "rainbow = \"red, orange, yellow, green, blue, indigo, violet\"\n",
    "warm_colors = \"red, yellow, orange\"\n",
    "my_color = \"orange\"\n",
    "\n",
    "if my_color in rainbow:\n",
    "    print(\"Wow, your color is in the rainbow!\")\n",
    "    if my_color in warm_colors:\n",
    "        print(\"Oh, by the way, it's a warm color.\")\n",
    "The example above illustrates a nested if statement. If the variable my_color is a string that contains the name of a color from the rainbow, we enter the body of the first if statement. First, we print the message and then check if our color belongs to the warm colors. The membership operator in simply shows whether my_color is a substring of the respective string, rainbow or warm_colors. Just like arithmetic comparisons, it returns a boolean value.\n",
    "\n",
    "Here is what we will see in our case:\n",
    "\n",
    "Wow, your color is in the rainbow!\n",
    "Oh, by the way, it's a warm color.\n",
    "When it comes to nested if statements, proper indentation is crucial, so do not forget to indent each statement that starts with the if keyword.\n"
   ]
  },
  {
   "cell_type": "code",
   "execution_count": 41,
   "metadata": {},
   "outputs": [
    {
     "name": "stdout",
     "output_type": "stream",
     "text": [
      "0\n",
      "cat\n",
      "0 cats\n"
     ]
    }
   ],
   "source": [
    "Alex wrote a program that reads a number and a word from the input to create phrases like \"3 cats\" and \"1 dog\". Unfortunately, the condition for plural nouns is currently missing. Alex doesn't know how to use if statements, but you do. Help Alex complete this program.\n",
    "\n",
    "The plural form of a word generally ends with s. All numbers, apart from 1, expect the plural form after them, even zero: \"0 birds\".\n",
    "\n",
    "Words that form their plural not by adding s, will NOT appear in the tests.\n",
    "\n",
    "\n",
    " Report a typo\n",
    "Sample Input 1:\n",
    "\n",
    "1\n",
    "engineer\n",
    "Sample Output 1:\n",
    "\n",
    "1 engineer\n",
    "Sample Input 2:\n",
    "\n",
    "12\n",
    "student\n",
    "Sample Output 2:\n",
    "\n",
    "12 students\n",
    "\n",
    "#code here\n",
    "\n",
    "number = int(input())\n",
    "word = input()\n",
    "\n",
    "# write a condition for plurals\n",
    "if number != 1:\n",
    "    word = word + \"s\"\n",
    "\n",
    "\n",
    "print(number, word)"
   ]
  },
  {
   "cell_type": "code",
   "execution_count": 44,
   "metadata": {},
   "outputs": [
    {
     "name": "stdout",
     "output_type": "stream",
     "text": [
      "18\n",
      "171\n"
     ]
    }
   ],
   "source": [
    "i = int(input())\n",
    "a =0\n",
    "while i>0:\n",
    "    a += i\n",
    "    i -= 1\n",
    "print(a)"
   ]
  },
  {
   "cell_type": "code",
   "execution_count": 53,
   "metadata": {},
   "outputs": [
    {
     "name": "stdout",
     "output_type": "stream",
     "text": [
      "2\n"
     ]
    }
   ],
   "source": [
    "i = int(input())\n",
    "a = 2\n",
    "while a < i:\n",
    "    print(a)\n",
    "    a += 2    "
   ]
  },
  {
   "cell_type": "code",
   "execution_count": 52,
   "metadata": {},
   "outputs": [
    {
     "name": "stdout",
     "output_type": "stream",
     "text": [
      "2\n"
     ]
    }
   ],
   "source": [
    "maximum = int(input())\n",
    "minimum = 0\n",
    "while minimum + 2 < maximum <= 200:\n",
    "    minimum = minimum + 2\n",
    "    print(minimum)"
   ]
  },
  {
   "cell_type": "code",
   "execution_count": 82,
   "metadata": {},
   "outputs": [
    {
     "name": "stdout",
     "output_type": "stream",
     "text": [
      "Please enter the number of the habitat you would like to view: 1\n",
      "\n",
      "Switching on the camera in the lion habitat...\n",
      "                                               ,w.\n",
      "                                             ,YWMMw  ,M  ,\n",
      "                        _.---.._   __..---._.'MMMMMw,wMWmW,\n",
      "                   _.-\"\"        '''           YP\"WMMMMMMMMMb,\n",
      "                .-' __.'                   .'     MMMMW^WMMMM;\n",
      "    _,        .'.-'\"; `,       /`     .--\"\"      :MMM[==MWMW^;\n",
      " ,mM^\"     ,-'.'   /   ;      ;      /   ,       MMMMb_wMW\"  @\\\n",
      ",MM:.    .'.-'   .'     ;     `\\    ;     `,     MMMMMMMW `\"=./`-,\n",
      "WMMm__,-'.'     /      _.\\      F'''-+,,   ;_,_.dMMMMMMMM[,_ / `=_}\n",
      "\"^MP__.-'    ,-' _.--\"\"   `-,   ;       \\  ; ;MMMMMMMMMMW^``; __|\n",
      "           /   .'            ; ;         )  )`{  \\ `\"^W^`,   \\  :\n",
      "          /  .'             /  (       .'  /     Ww._     `.  `\"\n",
      "         /  Y,              `,  `-,=,_{   ;      MMMP`\"\"-,  `-._.-,\n",
      "        (--, )                `,_ / `) \\/\"\")      ^\"      `-, -;\"\\:\n",
      "The lion is roaring!\n",
      "Please enter the number of the habitat you would like to view: 2\n",
      "\n",
      "Switching on the camera in the deer habitat...\n",
      "   /|       |\\\n",
      "`__\\\\       //__'\n",
      "   ||      ||\n",
      " \\__`\\     |'__/\n",
      "   `_\\\\   //_'\n",
      "   _.,:---;,._\n",
      "   \\_:     :_/\n",
      "     |@. .@|\n",
      "     |     |\n",
      "     ,\\.-./ \\\n",
      "     ;;`-'   `---__________-----.-.\n",
      "     ;;;                         \\_\\\n",
      "     ';;;                         |\n",
      "      ;    |                      ;\n",
      "       \\   \\     \\        |      /\n",
      "        \\_, \\    /        \\     |\\\n",
      "          |';|  |,,,,,,,,/ \\    \\ \\_\n",
      "          |  |  |           \\   /   |\n",
      "          \\  \\  |           |  / \\  |\n",
      "           | || |           | |   | |\n",
      "           | || |           | |   | |\n",
      "           | || |           | |   | |\n",
      "           |_||_|           |_|   |_|\n",
      "          /_//_/           /_/   /_/\n",
      "Our 'Bambi' looks hungry. Let's go to feed it!\n",
      "Please enter the number of the habitat you would like to view: exit\n",
      "See you later\n"
     ]
    }
   ],
   "source": [
    "camel = r\"\"\"\n",
    "Switching on the camera in the camel habitat...\n",
    " ___.-''''-.\n",
    "/___  @    |\n",
    "',,,,.     |         _.'''''''._\n",
    "     '     |        /           \\\n",
    "     |     \\    _.-'             \\\n",
    "     |      '.-'                  '-.\n",
    "     |                               ',\n",
    "     |                                '',\n",
    "      ',,-,                           ':;\n",
    "           ',,| ;,,                 ,' ;;\n",
    "              ! ; !'',,,',',,,,'!  ;   ;:\n",
    "             : ;  ! !       ! ! ;  ;   :;\n",
    "             ; ;   ! !      ! !  ; ;   ;,\n",
    "            ; ;    ! !     ! !   ; ;\n",
    "            ; ;    ! !    ! !     ; ;\n",
    "           ;,,      !,!   !,!     ;,;\n",
    "           /_I      L_I   L_I     /_I\n",
    "Look at that! Our little camel is sunbathing!\"\"\"\n",
    "\n",
    "lion = r\"\"\"\n",
    "Switching on the camera in the lion habitat...\n",
    "                                               ,w.\n",
    "                                             ,YWMMw  ,M  ,\n",
    "                        _.---.._   __..---._.'MMMMMw,wMWmW,\n",
    "                   _.-\"\"        '''           YP\"WMMMMMMMMMb,\n",
    "                .-' __.'                   .'     MMMMW^WMMMM;\n",
    "    _,        .'.-'\"; `,       /`     .--\"\"      :MMM[==MWMW^;\n",
    " ,mM^\"     ,-'.'   /   ;      ;      /   ,       MMMMb_wMW\"  @\\\n",
    ",MM:.    .'.-'   .'     ;     `\\    ;     `,     MMMMMMMW `\"=./`-,\n",
    "WMMm__,-'.'     /      _.\\      F'''-+,,   ;_,_.dMMMMMMMM[,_ / `=_}\n",
    "\"^MP__.-'    ,-' _.--\"\"   `-,   ;       \\  ; ;MMMMMMMMMMW^``; __|\n",
    "           /   .'            ; ;         )  )`{  \\ `\"^W^`,   \\  :\n",
    "          /  .'             /  (       .'  /     Ww._     `.  `\"\n",
    "         /  Y,              `,  `-,=,_{   ;      MMMP`\"\"-,  `-._.-,\n",
    "        (--, )                `,_ / `) \\/\"\")      ^\"      `-, -;\"\\:\n",
    "The lion is roaring!\"\"\"\n",
    "\n",
    "deer = r\"\"\"\n",
    "Switching on the camera in the deer habitat...\n",
    "   /|       |\\\n",
    "`__\\\\       //__'\n",
    "   ||      ||\n",
    " \\__`\\     |'__/\n",
    "   `_\\\\   //_'\n",
    "   _.,:---;,._\n",
    "   \\_:     :_/\n",
    "     |@. .@|\n",
    "     |     |\n",
    "     ,\\.-./ \\\n",
    "     ;;`-'   `---__________-----.-.\n",
    "     ;;;                         \\_\\\n",
    "     ';;;                         |\n",
    "      ;    |                      ;\n",
    "       \\   \\     \\        |      /\n",
    "        \\_, \\    /        \\     |\\\n",
    "          |';|  |,,,,,,,,/ \\    \\ \\_\n",
    "          |  |  |           \\   /   |\n",
    "          \\  \\  |           |  / \\  |\n",
    "           | || |           | |   | |\n",
    "           | || |           | |   | |\n",
    "           | || |           | |   | |\n",
    "           |_||_|           |_|   |_|\n",
    "          /_//_/           /_/   /_/\n",
    "Our 'Bambi' looks hungry. Let's go to feed it!\"\"\"\n",
    "\n",
    "goose = r\"\"\"\n",
    "Switching on the camera in the goose habitat...\n",
    "\n",
    "                                    _\n",
    "                                ,-\"\" \"\".\n",
    "                              ,'  ____  `.\n",
    "                            ,'  ,'    `.  `._\n",
    "   (`.         _..--.._   ,'  ,'        \\    \\\n",
    "  (`-.\\    .-\"\"        \"\"'   /          (  d _b\n",
    " (`._  `-\"\" ,._             (            `-(   \\\n",
    " <_  `     (  <`<            \\              `-._\\\n",
    "  <`-       (__< <           :\n",
    "   (__        (_<_<          ;\n",
    "    `------------------------------------------\n",
    "The goose is staring intently at you... Maybe it's time to change the channel?\"\"\"\n",
    "\n",
    "bat = r\"\"\"\n",
    "Switching on the camera in the bat habitat...\n",
    "_________________               _________________\n",
    " ~-.              \\  |\\___/|  /              .-~\n",
    "     ~-.           \\ / o o \\ /           .-~\n",
    "        >           \\\\  W  //           <\n",
    "       /             /~---~\\             \\\n",
    "      /_            |       |            _\\\n",
    "         ~-.        |       |        .-~\n",
    "            ;        \\     /        i\n",
    "           /___      /\\   /\\      ___\\\n",
    "                ~-. /  \\_/  \\ .-~\n",
    "                   V         V\n",
    "This bat looks like it's doing fine.\"\"\"\n",
    "\n",
    "rabbit = r\"\"\"\n",
    "Switching on the camera in the rabbit habitat...\n",
    "         ,\n",
    "        /|      __\n",
    "       / |   ,-~ /\n",
    "      Y :|  //  /\n",
    "      | jj /( .^\n",
    "      >-\"~\"-v\"\n",
    "     /       Y\n",
    "    jo  o    |\n",
    "   ( ~T~     j\n",
    "    >._-' _./\n",
    "   /   \"~\"  |\n",
    "  Y     _,  |\n",
    " /| ;-\"~ _  l\n",
    "/ l/ ,-\"~    \\\n",
    "\\//\\/      .- \\\n",
    " Y        /    Y\n",
    " l       I     !\n",
    " ]\\      _\\    /\"\\\n",
    "(\" ~----( ~   Y.  )\n",
    "It looks like we will soon have more rabbits!\"\"\"\n",
    "\n",
    "\n",
    "animals = [camel, lion, deer, goose, bat, rabbit]\n",
    "\n",
    "# write your code here\n",
    "message = \"message\"\n",
    "while message:\n",
    "    message = input(\"Please enter the number of the habitat you would like to view: \")\n",
    "    if message != \"exit\":\n",
    "        print(animals[int(message)])\n",
    "    else:\n",
    "        print(\"See you later\")\n",
    "        message = None"
   ]
  },
  {
   "cell_type": "code",
   "execution_count": null,
   "metadata": {},
   "outputs": [],
   "source": [
    "print('a')"
   ]
  },
  {
   "cell_type": "code",
   "execution_count": null,
   "metadata": {},
   "outputs": [],
   "source": []
  }
 ],
 "metadata": {
  "kernelspec": {
   "display_name": "Python 3",
   "language": "python",
   "name": "python3"
  }
 },
 "nbformat": 4,
 "nbformat_minor": 4
}
